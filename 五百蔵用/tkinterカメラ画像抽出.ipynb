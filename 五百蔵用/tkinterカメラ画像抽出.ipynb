{
 "cells": [
  {
   "cell_type": "code",
   "execution_count": null,
   "metadata": {},
   "outputs": [
    {
     "name": "stdout",
     "output_type": "stream",
     "text": [
      "camera-ON\n",
      "w:640.0px+h:480.0px\n",
      "u-Fail\n",
      "u-Fail\n",
      "u-Fail\n",
      "u-Fail\n",
      "u-Fail\n",
      "u-Fail\n",
      "u-Fail\n",
      "u-Fail\n",
      "u-Fail\n",
      "u-Fail\n",
      "u-Fail\n",
      "u-Fail\n",
      "u-Fail\n",
      "u-Fail\n",
      "u-Fail\n",
      "u-Fail\n",
      "u-Fail\n",
      "u-Fail\n"
     ]
    }
   ],
   "source": [
    "import tkinter as tk\n",
    "import cv2\n",
    "from PIL import Image,ImageTk\n",
    "import numpy as np\n",
    "\n",
    "global root,c\n",
    "root=tk.Tk()\n",
    "root.title(\"camera\")\n",
    "root.geometry(\"720x490\")\n",
    "root.resizable(width=False, height=False)\n",
    "c=cv2.VideoCapture(0)\n",
    "def takeFace(self):\n",
    "    ret, image = c.read()\n",
    "    cv2.imshow(\"Capture\", image)\n",
    "    cv2.imwrite(\"image.jpg\", image)\n",
    "#    root.destroy()\n",
    "# Buttonを設置してみる\n",
    "Button1 = tk.Button(text=u'撮影します')\n",
    "Button1.bind(\"<Button-1>\", takeFace)        \n",
    "Button1.place(x=300, y=460)\n",
    "\n",
    "global canvas\n",
    "canvas=tk.Canvas(root, width=640, height=460, bg=\"white\")\n",
    "canvas.pack()\n",
    "def capStart():\n",
    "    print('camera-ON')\n",
    "    try:\n",
    "        global w, h, img\n",
    "        w, h= c.get(cv2.CAP_PROP_FRAME_WIDTH), c.get(cv2.CAP_PROP_FRAME_HEIGHT)\n",
    "        print('w:'+str(w)+'px+h:'+str(h)+'px')\n",
    "    except:\n",
    "        import sys\n",
    "        print(\"error-----\")\n",
    "        print(sys.exec_info()[0])\n",
    "        print(sys.exec_info()[1])\n",
    "        '''終了時の処理はここでは省略します。\n",
    "        c.release()\n",
    "        cv2.destroyAllWindows()'''\n",
    "\n",
    "def u():#update\n",
    "    global img\n",
    "    ret, frame =c.read()\n",
    "    if ret:\n",
    "        img=ImageTk.PhotoImage(Image.fromarray(cv2.cvtColor(frame, cv2.COLOR_BGR2RGB)))\n",
    "        canvas.create_image(w/2,h/2,image=img)\n",
    "    else:\n",
    "        print(\"u-Fail\")\n",
    "    root.after(1,u)\n",
    "\n",
    "# main関数呼び出し\n",
    "if __name__ == \"__main__\":\n",
    "    capStart()\n",
    "    u()\n",
    "    root.mainloop()"
   ]
  },
  {
   "cell_type": "code",
   "execution_count": null,
   "metadata": {},
   "outputs": [],
   "source": []
  }
 ],
 "metadata": {
  "kernelspec": {
   "display_name": "Python 3",
   "language": "python",
   "name": "python3"
  },
  "language_info": {
   "codemirror_mode": {
    "name": "ipython",
    "version": 3
   },
   "file_extension": ".py",
   "mimetype": "text/x-python",
   "name": "python",
   "nbconvert_exporter": "python",
   "pygments_lexer": "ipython3",
   "version": "3.6.7"
  }
 },
 "nbformat": 4,
 "nbformat_minor": 2
}
